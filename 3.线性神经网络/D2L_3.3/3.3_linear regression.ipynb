{
 "cells": [
  {
   "metadata": {},
   "cell_type": "markdown",
   "source": [
    "\n",
    "# 线型回归的简洁实现\n",
    "\n",
    "#### 重建数据集"
   ],
   "id": "d1e536dd256f1bda"
  },
  {
   "metadata": {
    "ExecuteTime": {
     "end_time": "2025-10-13T08:21:42.573270Z",
     "start_time": "2025-10-13T08:21:42.554426Z"
    }
   },
   "cell_type": "code",
   "source": [
    "import numpy as np\n",
    "import torch\n",
    "from torch.utils import data\n",
    "from d2l import torch as d2l\n",
    "\n",
    "true_w = torch.tensor([2, -3.4])  #真实权重（ 2 个特征，对应形状为 (2,)），构造标签的线性关系\n",
    "true_b = 4.2    #真实偏置\n",
    "features, labels = d2l.synthetic_data(true_w, true_b, 1000)  #生成数据集，每个样本的特征和标签"
   ],
   "id": "3df29e5572f91e1c",
   "outputs": [],
   "execution_count": 245
  },
  {
   "metadata": {},
   "cell_type": "markdown",
   "source": "#### 读取数据集",
   "id": "ef2e5089ec05127d"
  },
  {
   "metadata": {
    "ExecuteTime": {
     "end_time": "2025-10-13T08:21:42.588923Z",
     "start_time": "2025-10-13T08:21:42.579523Z"
    }
   },
   "cell_type": "code",
   "source": [
    "#定义一个帮助函数，用于把给定的数据张量打包成可迭代的“小批量”（mini-batch）数据加载器\n",
    "def load_array(data_arrays, batch_size, is_train=True):  #@save   数据（二元组），每个小批量的样本数  ，是否打乱\n",
    "    \"\"\"构造一个PyTorch数据迭代器\"\"\"\n",
    "    dataset = data.TensorDataset(*data_arrays)  #把传入的多个张量打包成一个 PyTorch 的数据集（Dataset）实例\n",
    "    return data.DataLoader(dataset, batch_size, shuffle=is_train)  #基于上面的 dataset 构造一个 DataLoader，并返回它\n",
    "\n",
    "batch_size = 10\n",
    "data_iter = load_array((features, labels), batch_size)   # 迭代器（更准确说是可迭代的 DataLoader）"
   ],
   "id": "f2b82eecc88fb907",
   "outputs": [],
   "execution_count": 246
  },
  {
   "metadata": {},
   "cell_type": "markdown",
   "source": "###### data.DataLoader 的作用是把一个数据集（Dataset）“打包”成可迭代的迷你批量（mini-batch）数据流，并在迭代时提供常用的数据管道功能。它在训练/验证循环中充当“批量取数器”。",
   "id": "ac80b63463530291"
  },
  {
   "metadata": {},
   "cell_type": "markdown",
   "source": "验证是否正常工作：",
   "id": "e672a8fc460e781e"
  },
  {
   "metadata": {
    "ExecuteTime": {
     "end_time": "2025-10-13T08:21:42.619784Z",
     "start_time": "2025-10-13T08:21:42.602536Z"
    }
   },
   "cell_type": "code",
   "source": [
    "next(iter(data_iter))\n",
    "#iter()作用：逐块读取文件、不断采集数据直到出现终止标记等。因为不依赖现成的序列，这种形式适合“流式数据”"
   ],
   "id": "e6ba71ebd55bc3ea",
   "outputs": [
    {
     "data": {
      "text/plain": [
       "[tensor([[-1.4552, -0.3678],\n",
       "         [ 0.2187,  1.1237],\n",
       "         [ 2.0692, -1.0907],\n",
       "         [ 1.3897,  1.6632],\n",
       "         [ 1.7918, -1.5596],\n",
       "         [-1.0993,  0.3690],\n",
       "         [ 1.6089, -0.0050],\n",
       "         [-0.2266, -0.9119],\n",
       "         [ 0.8415, -1.3622],\n",
       "         [ 1.1040, -0.1516]]),\n",
       " tensor([[ 2.5376],\n",
       "         [ 0.8188],\n",
       "         [12.0420],\n",
       "         [ 1.3110],\n",
       "         [13.0784],\n",
       "         [ 0.7574],\n",
       "         [ 7.4524],\n",
       "         [ 6.8432],\n",
       "         [10.5233],\n",
       "         [ 6.9255]])]"
      ]
     },
     "execution_count": 247,
     "metadata": {},
     "output_type": "execute_result"
    }
   ],
   "execution_count": 247
  },
  {
   "metadata": {},
   "cell_type": "markdown",
   "source": "#### 定义模型",
   "id": "4d050f4659296b27"
  },
  {
   "metadata": {
    "ExecuteTime": {
     "end_time": "2025-10-13T08:21:42.649642Z",
     "start_time": "2025-10-13T08:21:42.638009Z"
    }
   },
   "cell_type": "code",
   "source": [
    "from torch import nn\n",
    "net = nn.Sequential(nn.Linear(2, 1))"
   ],
   "id": "be67141695fde96f",
   "outputs": [],
   "execution_count": 248
  },
  {
   "metadata": {},
   "cell_type": "markdown",
   "source": [
    "###### nn.Linear(2, 1)\n",
    "###### - 线性层（全连接层），把输入的 2 维特征映射到 1 维输出。\n",
    "###### - 数学形式：y_hat = x1 w1 + x2 w2 + b，其中 w1、w2、b 是可学习参数。"
   ],
   "id": "97b3ac59eb27e582"
  },
  {
   "metadata": {},
   "cell_type": "markdown",
   "source": [
    "#### 初始化模型参数\n",
    "###### 每个权重参数应该从均值为0、标准差为0.01的正态分布中随机采样， 偏置参数将初始化为零"
   ],
   "id": "570ca06ba6f5fd78"
  },
  {
   "metadata": {
    "ExecuteTime": {
     "end_time": "2025-10-13T08:21:42.680657Z",
     "start_time": "2025-10-13T08:21:42.661444Z"
    }
   },
   "cell_type": "code",
   "source": [
    "net[0].weight.data.normal_(0, 0.01)\n",
    "net[0].bias.data.fill_(0)"
   ],
   "id": "42a4c47a123b4b94",
   "outputs": [
    {
     "data": {
      "text/plain": [
       "tensor([0.])"
      ]
     },
     "execution_count": 249,
     "metadata": {},
     "output_type": "execute_result"
    }
   ],
   "execution_count": 249
  },
  {
   "metadata": {},
   "cell_type": "markdown",
   "source": [
    "#### 定义损失函数\n",
    "###### 计算均方误差使用的是MSELoss类，也称为平方范数。 默认情况下，它返回所有样本损失的平均值。"
   ],
   "id": "526b609d93c6b4fd"
  },
  {
   "metadata": {
    "ExecuteTime": {
     "end_time": "2025-10-13T08:21:42.711703Z",
     "start_time": "2025-10-13T08:21:42.694023Z"
    }
   },
   "cell_type": "code",
   "source": "loss = nn.MSELoss() #",
   "id": "12b036bdecb83bf7",
   "outputs": [],
   "execution_count": 250
  },
  {
   "metadata": {},
   "cell_type": "markdown",
   "source": [
    "#### 定义优化算法\n",
    "###### 小批量随机梯度下降算法是一种优化神经网络的标准工具， PyTorch在optim模块中实现了该算法的许多变种。 当我们实例化一个SGD实例时，我们要指定优化的参数 （可通过net.parameters()从我们的模型中获得）以及优化算法所需的超参数字典。 小批量随机梯度下降只需要设置lr值，这里设置为0.03。"
   ],
   "id": "cec30530c837a318"
  },
  {
   "metadata": {
    "ExecuteTime": {
     "end_time": "2025-10-13T08:21:42.727450Z",
     "start_time": "2025-10-13T08:21:42.722390Z"
    }
   },
   "cell_type": "code",
   "source": "trainer = torch.optim.SGD(net.parameters(), lr=0.03)",
   "id": "5b9142bdd33818bb",
   "outputs": [],
   "execution_count": 251
  },
  {
   "metadata": {},
   "cell_type": "markdown",
   "source": "",
   "id": "9e25c2dcd674b7de"
  },
  {
   "metadata": {},
   "cell_type": "markdown",
   "source": [
    "#### 训练\n",
    "\n",
    "##### 在每个迭代周期里，我们将完整遍历一次数据集（train_data）， 不停地从中获取一个小批量的输入和相应的标签。 对于每一个小批量，我们会进行以下步骤:\n",
    "###### 1.通过调用net(X)生成预测并计算损失l（前向传播）\n",
    "###### 2.通过进行反向传播来计算梯度。\n",
    "###### 3.通过调用优化器来更新模型参数。"
   ],
   "id": "d22f71fd6c66d3d0"
  },
  {
   "metadata": {
    "ExecuteTime": {
     "end_time": "2025-10-13T08:21:42.821340Z",
     "start_time": "2025-10-13T08:21:42.736684Z"
    }
   },
   "cell_type": "code",
   "source": [
    "num_epochs = 3\n",
    "for epoch in range(num_epochs):\n",
    "    for X, y in data_iter:\n",
    "        l = loss(net(X) ,y)\n",
    "        trainer.zero_grad()\n",
    "        l.backward()\n",
    "        trainer.step()\n",
    "    l = loss(net(features), labels)\n",
    "    print(f'epoch {epoch + 1}, loss {l:f}')"
   ],
   "id": "e3223a5acdf20dd4",
   "outputs": [
    {
     "name": "stdout",
     "output_type": "stream",
     "text": [
      "epoch 1, loss 0.000217\n",
      "epoch 2, loss 0.000107\n",
      "epoch 3, loss 0.000109\n"
     ]
    }
   ],
   "execution_count": 252
  },
  {
   "metadata": {},
   "cell_type": "markdown",
   "source": "#### 验证数据误差",
   "id": "d238dd718d1d1d59"
  },
  {
   "metadata": {
    "ExecuteTime": {
     "end_time": "2025-10-13T08:21:42.852989Z",
     "start_time": "2025-10-13T08:21:42.833982Z"
    }
   },
   "cell_type": "code",
   "source": [
    "w = net[0].weight.data\n",
    "print('w的估计误差：', true_w - w.reshape(true_w.shape))\n",
    "b = net[0].bias.data\n",
    "print('b的估计误差：', true_b - b)"
   ],
   "id": "f2270a1f84a23b07",
   "outputs": [
    {
     "name": "stdout",
     "output_type": "stream",
     "text": [
      "w的估计误差： tensor([ 0.0007, -0.0002])\n",
      "b的估计误差： tensor([-0.0012])\n"
     ]
    }
   ],
   "execution_count": 253
  }
 ],
 "metadata": {
  "language_info": {
   "name": "python"
  },
  "required_libs": [],
  "kernelspec": {
   "name": "d2l",
   "language": "python",
   "display_name": "d2l"
  }
 },
 "nbformat": 4,
 "nbformat_minor": 5
}
