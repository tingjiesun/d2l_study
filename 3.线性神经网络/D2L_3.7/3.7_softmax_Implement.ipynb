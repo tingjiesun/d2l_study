{
 "cells": [
  {
   "metadata": {},
   "cell_type": "markdown",
   "source": [
    "## Softmax的简单实现\n",
    "###### 创建训练以及测试数据集"
   ],
   "id": "fb6a6be3ff7adc83"
  },
  {
   "metadata": {},
   "cell_type": "code",
   "outputs": [],
   "execution_count": null,
   "source": [
    "import torch\n",
    "from torch import nn\n",
    "from d2l import torch as d2l\n",
    "\n",
    "batch_size = 256      #小批量的样本数为256\n",
    "train_iter, test_iter = d2l.load_data_fashion_mnist(batch_size)"
   ],
   "id": "5c32c68b3021acc2"
  },
  {
   "metadata": {},
   "cell_type": "markdown",
   "source": "###### 初始化模型参数",
   "id": "c8cb7060dfd8a5af"
  },
  {
   "metadata": {},
   "cell_type": "code",
   "outputs": [],
   "execution_count": null,
   "source": [
    "# PyTorch不会隐式地调整输入的形状。因此，\n",
    "# 我们在线性层前定义了展平层（flatten），来调整网络输入的形状\n",
    "net = nn.Sequential(nn.Flatten(), nn.Linear(784, 10))\n",
    "\n",
    "def init_weights(m):\n",
    "    if type(m) == nn.Linear:\n",
    "        nn.init.normal_(m.weight, std=0.01)\n",
    "\n",
    "net.apply(init_weights);"
   ],
   "id": "35f73a0e4165a7d8"
  },
  {
   "metadata": {},
   "cell_type": "code",
   "outputs": [],
   "execution_count": null,
   "source": "损失函数",
   "id": "65ff3ff63e1ab279"
  },
  {
   "metadata": {},
   "cell_type": "markdown",
   "source": "loss = nn.CrossEntropyLoss(reduction='none')",
   "id": "b2506e97707a1734"
  },
  {
   "metadata": {},
   "cell_type": "markdown",
   "source": "优化算法",
   "id": "4624f14ff9b9bae6"
  },
  {
   "metadata": {},
   "cell_type": "code",
   "outputs": [],
   "execution_count": null,
   "source": "trainer = torch.optim.SGD(net.parameters(), lr=0.1)",
   "id": "b9eafcd2c6e5a4f3"
  },
  {
   "metadata": {},
   "cell_type": "markdown",
   "source": "训练",
   "id": "95a4265c04128eaa"
  },
  {
   "metadata": {},
   "cell_type": "code",
   "outputs": [],
   "execution_count": null,
   "source": [
    "num_epochs = 10\n",
    "d2l.train_ch3(net, train_iter, test_iter, loss, num_epochs, trainer)"
   ],
   "id": "900c45d5cbc60a40"
  }
 ],
 "metadata": {
  "kernelspec": {
   "display_name": "Python 3",
   "language": "python",
   "name": "python3"
  },
  "language_info": {
   "codemirror_mode": {
    "name": "ipython",
    "version": 2
   },
   "file_extension": ".py",
   "mimetype": "text/x-python",
   "name": "python",
   "nbconvert_exporter": "python",
   "pygments_lexer": "ipython2",
   "version": "2.7.6"
  }
 },
 "nbformat": 4,
 "nbformat_minor": 5
}
