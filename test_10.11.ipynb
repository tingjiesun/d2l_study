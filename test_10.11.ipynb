{
 "cells": [
  {
   "metadata": {},
   "cell_type": "markdown",
   "source": [
    "\n",
    "# 线型回归的简洁实现\n",
    "\n",
    "#### 重建数据集"
   ],
   "id": "d1e536dd256f1bda"
  },
  {
   "metadata": {},
   "cell_type": "code",
   "source": [
    "import numpy as np\n",
    "import torch\n",
    "from torch.utils import data\n",
    "from d2l import torch as d2l\n",
    "\n",
    "true_w = torch.tensor([2, -3.4])  #真实权重（ 2 个特征，对应形状为 (2,)），构造标签的线性关系\n",
    "true_b = 4.2    #真实偏置\n",
    "features, labels = d2l.synthetic_data(true_w, true_b, 1000)  #生成数据集，每个样本的特征和标签"
   ],
   "id": "3df29e5572f91e1c",
   "outputs": [],
   "execution_count": null
  },
  {
   "metadata": {},
   "cell_type": "markdown",
   "source": "#### 读取数据集",
   "id": "ef2e5089ec05127d"
  },
  {
   "metadata": {},
   "cell_type": "code",
   "source": [
    "#定义一个帮助函数，用于把给定的数据张量打包成可迭代的“小批量”（mini-batch）数据加载器\n",
    "def load_array(data_arrays, batch_size, is_train=True):  #@save   数据（二元组），每个小批量的样本数  ，是否打乱\n",
    "    \"\"\"构造一个PyTorch数据迭代器\"\"\"\n",
    "    dataset = data.TensorDataset(*data_arrays)  #把传入的多个张量打包成一个 PyTorch 的数据集（Dataset）实例\n",
    "    return data.DataLoader(dataset, batch_size, shuffle=is_train)  #基于上面的 dataset 构造一个 DataLoader，并返回它\n",
    "\n",
    "batch_size = 10\n",
    "data_iter = load_array((features, labels), batch_size)   #迭代器（更准确说是可迭代的 DataLoader）"
   ],
   "id": "f2b82eecc88fb907",
   "outputs": [],
   "execution_count": null
  },
  {
   "metadata": {},
   "cell_type": "markdown",
   "source": "###### data.DataLoader 的作用是把一个数据集（Dataset）“打包”成可迭代的迷你批量（mini-batch）数据流，并在迭代时提供常用的数据管道功能。它在训练/验证循环中充当“批量取数器”。",
   "id": "ac80b63463530291"
  }
 ],
 "metadata": {
  "language_info": {
   "name": "python"
  },
  "required_libs": [],
  "kernelspec": {
   "name": "d2l",
   "language": "python",
   "display_name": "d2l"
  }
 },
 "nbformat": 4,
 "nbformat_minor": 5
}
